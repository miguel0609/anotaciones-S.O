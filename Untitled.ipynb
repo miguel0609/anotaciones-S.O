{
 "cells": [
  {
   "cell_type": "markdown",
   "metadata": {},
   "source": [
    "# copiar archivos y directorios"
   ]
  },
  {
   "cell_type": "code",
   "execution_count": 14,
   "metadata": {},
   "outputs": [
    {
     "name": "stdout",
     "output_type": "stream",
     "text": [
      "\u001b[0m\u001b[01;34mcopiame\u001b[0m  copianueva-Unititled2.ipynb  copia-Untitled.ipynb  Untitled.ipynb\n"
     ]
    }
   ],
   "source": [
    "ls"
   ]
  },
  {
   "cell_type": "code",
   "execution_count": 18,
   "metadata": {},
   "outputs": [
    {
     "name": "stdout",
     "output_type": "stream",
     "text": [
      "\u001b[0m\u001b[01;34m.\u001b[0m              \u001b[01;34m.cache\u001b[0m                        \u001b[01;34m.ipynb_checkpoints\u001b[0m  \u001b[01;34m.pyenv\u001b[0m\n",
      "\u001b[01;34m..\u001b[0m             \u001b[01;34mcopiame\u001b[0m                       \u001b[01;34m.ipython\u001b[0m            \u001b[01;34m.ssh\u001b[0m\n",
      ".bash_history  .copianueva-Unititled2.ipynb  \u001b[01;34m.local\u001b[0m              Untitled.ipynb\n",
      ".bash_logout   copianueva-Unititled2.ipynb   \u001b[01;34m.nano\u001b[0m               .wget-hsts\n",
      ".bashrc        copia-Untitled.ipynb          .profile\n"
     ]
    }
   ],
   "source": [
    "ls -a /home/vagrant"
   ]
  },
  {
   "cell_type": "markdown",
   "metadata": {},
   "source": [
    "el parametro **-a** muestra todos los archivos (ocultos y no ocultos)\n",
    "este parametro se puede mezclar con otros parametros"
   ]
  },
  {
   "cell_type": "code",
   "execution_count": 20,
   "metadata": {},
   "outputs": [
    {
     "name": "stdout",
     "output_type": "stream",
     "text": [
      "total 80K\n",
      "drwxr-xr-x 10 vagrant vagrant 4.0K Sep 18 10:00 \u001b[0m\u001b[01;34m.\u001b[0m\n",
      "drwxr-xr-x  4 root    root    4.0K Aug 30 12:37 \u001b[01;34m..\u001b[0m\n",
      "-rw-------  1 vagrant vagrant  271 Sep 18 09:05 .bash_history\n",
      "-rw-r--r--  1 vagrant vagrant  220 Feb 23  2018 .bash_logout\n",
      "-rw-r--r--  1 vagrant vagrant 3.7K Apr 22 14:20 .bashrc\n",
      "drwx------  3 vagrant vagrant 4.0K Apr 22 14:28 \u001b[01;34m.cache\u001b[0m\n",
      "drwxr-xr-x  2 vagrant vagrant 4.0K Sep 18 09:24 \u001b[01;34mcopiame\u001b[0m\n",
      "-rw-r--r--  1 vagrant vagrant  946 Sep 18 09:35 .copianueva-Unititled2.ipynb\n",
      "-rw-r--r--  1 vagrant vagrant  946 Sep 18 09:35 copianueva-Unititled2.ipynb\n",
      "-rw-r--r--  1 vagrant vagrant  765 Sep 18 09:17 copia-Untitled.ipynb\n",
      "drwxr-xr-x  2 vagrant vagrant 4.0K Sep 18 09:07 \u001b[01;34m.ipynb_checkpoints\u001b[0m\n",
      "drwxr-xr-x  5 vagrant vagrant 4.0K Sep 18 09:08 \u001b[01;34m.ipython\u001b[0m\n",
      "drwx------  6 vagrant vagrant 4.0K Sep 18 08:58 \u001b[01;34m.local\u001b[0m\n",
      "drwxr-xr-x  2 vagrant vagrant 4.0K Feb 23  2018 \u001b[01;34m.nano\u001b[0m\n",
      "-rw-r--r--  1 vagrant vagrant  675 Feb 23  2018 .profile\n",
      "drwxr-xr-x 13 vagrant vagrant 4.0K Apr 22 14:20 \u001b[01;34m.pyenv\u001b[0m\n",
      "drwx------  2 vagrant vagrant 4.0K Aug 30 12:37 \u001b[01;34m.ssh\u001b[0m\n",
      "-rw-r--r--  1 vagrant vagrant 6.3K Sep 18 10:00 Untitled.ipynb\n",
      "-rw-r--r--  1 vagrant vagrant  180 Feb 23  2018 .wget-hsts\n"
     ]
    }
   ],
   "source": [
    "ls -alh"
   ]
  },
  {
   "cell_type": "markdown",
   "metadata": {},
   "source": [
    "el parametro **-l** nos muestra en una lista los archivos y añade \n",
    "informacion del archivo o directorio mostrado (permisos, a quien pertenece, tamaño en disco, fecha de creacion\n",
    "o modificacion)\n",
    "\n",
    "NOTA: podemos diferenciar entre un archivo por la inicial mostrada ( **dd**rwxr-xr-x directorio **-rw-r--r--** archivo)\n",
    "\n",
    "el parametro **-h** nos muestra en un formato mas amigable *human readable* el tamaño de los archivos "
   ]
  },
  {
   "cell_type": "code",
   "execution_count": 2,
   "metadata": {},
   "outputs": [],
   "source": [
    "cp Untitled.ipynb copia-Untitled.ipynb"
   ]
  },
  {
   "cell_type": "code",
   "execution_count": 4,
   "metadata": {},
   "outputs": [],
   "source": [
    "mkdir copiame"
   ]
  },
  {
   "cell_type": "code",
   "execution_count": 6,
   "metadata": {},
   "outputs": [],
   "source": [
    "cp Untitled.ipynb copiame/copia-Untitled2.ipynb"
   ]
  },
  {
   "cell_type": "code",
   "execution_count": 7,
   "metadata": {},
   "outputs": [
    {
     "name": "stdout",
     "output_type": "stream",
     "text": [
      "copia-Untitled2.ipynb\n"
     ]
    }
   ],
   "source": [
    "ls copiame"
   ]
  },
  {
   "cell_type": "code",
   "execution_count": 8,
   "metadata": {},
   "outputs": [
    {
     "name": "stdout",
     "output_type": "stream",
     "text": [
      "/home/vagrant\n"
     ]
    }
   ],
   "source": [
    "pwd"
   ]
  },
  {
   "cell_type": "markdown",
   "metadata": {},
   "source": [
    "el comando **pwd** nos imprime en consola el directorio donde estamos posicionados"
   ]
  },
  {
   "cell_type": "code",
   "execution_count": 13,
   "metadata": {},
   "outputs": [],
   "source": [
    "cp copiame/copia-Untitled2.ipynb ./copianueva-Unititled2.ipynb"
   ]
  },
  {
   "cell_type": "markdown",
   "metadata": {},
   "source": [
    "# comando tree\n",
    "el comando **tree** nos permite imprimir en consola la estructura de directorios y \n",
    "sus archivos, lo muestra en un diagrama de niveles y sub-niveles"
   ]
  },
  {
   "cell_type": "code",
   "execution_count": 17,
   "metadata": {},
   "outputs": [
    {
     "name": "stdout",
     "output_type": "stream",
     "text": [
      "\u001b[01;34m/home\u001b[00m\n",
      "├── \u001b[01;34mvagrant\u001b[00m\n",
      "│   ├── \u001b[01;34mcopiame\u001b[00m\n",
      "│   │   └── copia-Untitled2.ipynb\n",
      "│   ├── copianueva-Unititled2.ipynb\n",
      "│   ├── copia-Untitled.ipynb\n",
      "│   └── Untitled.ipynb\n",
      "└── \u001b[34;42mvagrant_proyecto\u001b[00m\n",
      "    ├── \u001b[01;32mDebian9.8x64-pythondev.box\u001b[00m\n",
      "    └── \u001b[01;32mVagrantfile\u001b[00m\n",
      "\n",
      "3 directories, 6 files\n"
     ]
    }
   ],
   "source": [
    "tree /home"
   ]
  },
  {
   "cell_type": "code",
   "execution_count": 1,
   "metadata": {},
   "outputs": [
    {
     "name": "stdout",
     "output_type": "stream",
     "text": [
      "UID        PID  PPID  C STIME TTY          TIME CMD\n",
      "root         1     0  0 08:55 ?        00:00:01 /sbin/init\n",
      "root         2     0  0 08:55 ?        00:00:00 [kthreadd]\n",
      "root         3     2  0 08:55 ?        00:00:00 [ksoftirqd/0]\n",
      "root         5     2  0 08:55 ?        00:00:00 [kworker/0:0H]\n",
      "root         7     2  0 08:55 ?        00:00:00 [rcu_sched]\n",
      "root         8     2  0 08:55 ?        00:00:00 [rcu_bh]\n",
      "root         9     2  0 08:55 ?        00:00:00 [migration/0]\n",
      "root        10     2  0 08:55 ?        00:00:00 [lru-add-drain]\n",
      "root        11     2  0 08:55 ?        00:00:00 [watchdog/0]\n",
      "root        12     2  0 08:55 ?        00:00:00 [cpuhp/0]\n",
      "root        13     2  0 08:55 ?        00:00:00 [kdevtmpfs]\n",
      "root        14     2  0 08:55 ?        00:00:00 [netns]\n",
      "root        15     2  0 08:55 ?        00:00:00 [khungtaskd]\n",
      "root        16     2  0 08:55 ?        00:00:00 [oom_reaper]\n",
      "root        17     2  0 08:55 ?        00:00:00 [writeback]\n",
      "root        18     2  0 08:55 ?        00:00:00 [kcompactd0]\n",
      "root        19     2  0 08:55 ?        00:00:00 [ksmd]\n",
      "root        21     2  0 08:55 ?        00:00:00 [khugepaged]\n",
      "root        22     2  0 08:55 ?        00:00:00 [crypto]\n",
      "root        23     2  0 08:55 ?        00:00:00 [kintegrityd]\n",
      "root        24     2  0 08:55 ?        00:00:00 [bioset]\n",
      "root        25     2  0 08:55 ?        00:00:00 [kblockd]\n",
      "root        26     2  0 08:55 ?        00:00:00 [devfreq_wq]\n",
      "root        27     2  0 08:55 ?        00:00:00 [watchdogd]\n",
      "root        28     2  0 08:55 ?        00:00:00 [kswapd0]\n",
      "root        29     2  0 08:55 ?        00:00:00 [vmstat]\n",
      "root        41     2  0 08:55 ?        00:00:00 [kthrotld]\n",
      "root        42     2  0 08:55 ?        00:00:00 [ipv6_addrconf]\n",
      "root        77     2  0 08:55 ?        00:00:00 [ata_sff]\n",
      "root        83     2  0 08:55 ?        00:00:00 [kworker/u2:1]\n",
      "root       103     2  0 08:55 ?        00:00:00 [scsi_eh_0]\n",
      "root       104     2  0 08:55 ?        00:00:00 [scsi_tmf_0]\n",
      "root       105     2  0 08:55 ?        00:00:00 [scsi_eh_1]\n",
      "root       106     2  0 08:55 ?        00:00:00 [scsi_tmf_1]\n",
      "root       107     2  0 08:55 ?        00:00:00 [scsi_eh_2]\n",
      "root       108     2  0 08:55 ?        00:00:00 [scsi_tmf_2]\n",
      "root       109     2  0 08:55 ?        00:00:00 [kworker/u2:2]\n",
      "root       111     2  0 08:55 ?        00:00:00 [bioset]\n",
      "root       112     2  0 08:55 ?        00:00:00 [bioset]\n",
      "root       114     2  0 08:55 ?        00:00:00 [kworker/0:1H]\n",
      "root       142     2  0 08:55 ?        00:00:00 [kworker/u3:0]\n",
      "root       156     2  0 08:55 ?        00:00:00 [jbd2/sda1-8]\n",
      "root       157     2  0 08:55 ?        00:00:00 [ext4-rsv-conver]\n",
      "root       186     1  0 08:55 ?        00:00:00 /lib/systemd/systemd-journald\n",
      "root       188     2  0 08:55 ?        00:00:00 [kauditd]\n",
      "root       219     1  0 08:55 ?        00:00:00 /lib/systemd/systemd-udevd\n",
      "root       259     2  0 08:55 ?        00:00:00 [ttm_swap]\n",
      "root       288     2  0 08:55 ?        00:00:00 [iprt-VBoxWQueue]\n",
      "root       379     1  0 08:55 ?        00:00:00 /lib/systemd/systemd-logind\n",
      "root       380     1  0 08:55 ?        00:00:00 /usr/sbin/rsyslogd -n\n",
      "message+   381     1  0 08:55 ?        00:00:00 /usr/bin/dbus-daemon --system --\n",
      "root       399     1  0 08:55 ?        00:00:00 /usr/sbin/cron -f\n",
      "root       437     1  0 08:55 tty1     00:00:00 /sbin/agetty --noclear tty1 linu\n",
      "root       447     1  0 08:55 ?        00:00:00 /usr/sbin/sshd -D\n",
      "root       449     1  0 08:55 ?        00:00:00 /sbin/dhclient -4 -v -pf /run/dh\n",
      "Debian-+   720     1  0 08:55 ?        00:00:00 /usr/sbin/exim4 -bd -q30m\n",
      "root      1163     2  0 08:55 ?        00:00:00 [kworker/0:4]\n",
      "root      1226     1  0 08:56 ?        00:00:00 /usr/sbin/VBoxService --pidfile \n",
      "root      1236   447  0 08:56 ?        00:00:00 sshd: vagrant [priv]\n",
      "vagrant   1238     1  0 08:56 ?        00:00:00 /lib/systemd/systemd --user\n",
      "vagrant   1239  1238  0 08:56 ?        00:00:00 (sd-pam)\n",
      "vagrant   1245  1236  0 08:56 ?        00:00:00 sshd: vagrant@pts/0\n",
      "vagrant   1246  1245  0 08:56 pts/0    00:00:00 -bash\n",
      "vagrant   1335  1246  0 09:00 pts/0    00:00:05 /usr/bin/python /home/vagrant/.l\n",
      "vagrant   1343  1335  0 09:02 ?        00:00:00 /usr/bin/python -m bash_kernel -\n",
      "vagrant   1353  1343  0 09:02 pts/1    00:00:00 /bin/bash --rcfile /home/vagrant\n",
      "root      1441     2  0 09:06 ?        00:00:00 [kworker/0:1]\n",
      "root      1444     2  0 09:11 ?        00:00:00 [kworker/0:0]\n",
      "vagrant   1445  1353  0 09:12 pts/1    00:00:00 ps -ef\n"
     ]
    }
   ],
   "source": [
    "ps -ef"
   ]
  },
  {
   "cell_type": "code",
   "execution_count": 14,
   "metadata": {},
   "outputs": [
    {
     "name": "stdout",
     "output_type": "stream",
     "text": [
      "bash: kill: (206) - No such process\n"
     ]
    },
    {
     "ename": "",
     "evalue": "1",
     "output_type": "error",
     "traceback": []
    }
   ],
   "source": [
    "kill -9 206"
   ]
  },
  {
   "cell_type": "code",
   "execution_count": 22,
   "metadata": {},
   "outputs": [
    {
     "name": "stdout",
     "output_type": "stream",
     "text": [
      "ping: no process found\n"
     ]
    },
    {
     "ename": "",
     "evalue": "1",
     "output_type": "error",
     "traceback": []
    }
   ],
   "source": [
    "killall ping"
   ]
  }
 ],
 "metadata": {
  "kernelspec": {
   "display_name": "Bash",
   "language": "bash",
   "name": "bash"
  },
  "language_info": {
   "codemirror_mode": "shell",
   "file_extension": ".sh",
   "mimetype": "text/x-sh",
   "name": "bash"
  }
 },
 "nbformat": 4,
 "nbformat_minor": 2
}
